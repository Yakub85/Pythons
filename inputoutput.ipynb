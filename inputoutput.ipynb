{
 "cells": [
  {
   "cell_type": "code",
   "execution_count": 1,
   "metadata": {},
   "outputs": [
    {
     "name": "stdout",
     "output_type": "stream",
     "text": [
      "\n",
      "HelloHelloHello\n"
     ]
    }
   ],
   "source": [
    "print()\n",
    "print(\"Hello\"*3)"
   ]
  },
  {
   "cell_type": "code",
   "execution_count": 2,
   "metadata": {},
   "outputs": [
    {
     "name": "stdout",
     "output_type": "stream",
     "text": [
      "truetruetrue\n",
      "3\n"
     ]
    }
   ],
   "source": [
    "print(\"true\"*3)\n",
    "print(True*3)"
   ]
  },
  {
   "cell_type": "code",
   "execution_count": 6,
   "metadata": {},
   "outputs": [
    {
     "name": "stdout",
     "output_type": "stream",
     "text": [
      "All the power \n",
      " is with in you\n",
      "10+++20\n"
     ]
    }
   ],
   "source": [
    "print(\"All the power \\n is with in you\")\n",
    "a,b=10,20\n",
    "print(a,b,sep='+++')"
   ]
  },
  {
   "cell_type": "code",
   "execution_count": 13,
   "metadata": {},
   "outputs": [
    {
     "name": "stdout",
     "output_type": "stream",
     "text": [
      "Name is  Yaqub Marks are 94.5\n",
      "Name is Yaqub, Marks are 94.500\n",
      "Name is Yaqub,Marks are 94.5\n",
      "Name is Yaqub,Marks are 94.5\n"
     ]
    }
   ],
   "source": [
    "name = \"Yaqub\"\n",
    "marks= 94.5\n",
    "print(\"Name is \",name,\"Marks are\",marks)\n",
    "print(\"Name is %s, Marks are %.3f\"%(name,marks))\n",
    "print(\"Name is {},Marks are {}\".format(name,marks))\n",
    "print(\"Name is {0},Marks are {1}\".format(name,marks))"
   ]
  },
  {
   "cell_type": "code",
   "execution_count": 15,
   "metadata": {},
   "outputs": [
    {
     "name": "stdout",
     "output_type": "stream",
     "text": [
      "Yakub Ansari\n"
     ]
    }
   ],
   "source": [
    "s=input(\"Enter Your Name:\")\n",
    "print(s)"
   ]
  },
  {
   "cell_type": "code",
   "execution_count": 18,
   "metadata": {},
   "outputs": [
    {
     "name": "stdout",
     "output_type": "stream",
     "text": [
      "35\n",
      "<class 'int'>\n"
     ]
    }
   ],
   "source": [
    "a=int(input(\"Enter integer number:\"))\n",
    "b=int(input(\"Enter integer number:\"))\n",
    "print(a+b)\n",
    "print(type(a))"
   ]
  },
  {
   "cell_type": "code",
   "execution_count": 20,
   "metadata": {},
   "outputs": [
    {
     "name": "stdout",
     "output_type": "stream",
     "text": [
      "[1, 2, 3]\n"
     ]
    }
   ],
   "source": [
    "lst =[int(x) for x in input(\"Enter three number by space\").split()]\n",
    "print(lst)"
   ]
  }
 ],
 "metadata": {
  "kernelspec": {
   "display_name": "Python 3",
   "language": "python",
   "name": "python3"
  },
  "language_info": {
   "codemirror_mode": {
    "name": "ipython",
    "version": 3
   },
   "file_extension": ".py",
   "mimetype": "text/x-python",
   "name": "python",
   "nbconvert_exporter": "python",
   "pygments_lexer": "ipython3",
   "version": "3.11.5"
  }
 },
 "nbformat": 4,
 "nbformat_minor": 2
}
