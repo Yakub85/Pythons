{
 "cells": [
  {
   "cell_type": "code",
   "execution_count": 9,
   "metadata": {},
   "outputs": [
    {
     "data": {
      "text/plain": [
       "'\\nif conditions:\\n    statements\\nelse:\\n    statements\\n'"
      ]
     },
     "execution_count": 9,
     "metadata": {},
     "output_type": "execute_result"
    }
   ],
   "source": [
    "#Conditional Satement\n",
    "#syntax\n",
    "\"\"\"\n",
    "if conditions:\n",
    "    statements\n",
    "\"\"\"\n",
    "\"\"\"\n",
    "if conditions:\n",
    "    statements\n",
    "else:\n",
    "    statements\n",
    "\"\"\""
   ]
  },
  {
   "cell_type": "code",
   "execution_count": null,
   "metadata": {},
   "outputs": [],
   "source": [
    "#evenodd program\n",
    "x=int(input(\"Enter a number:\"))\n",
    "if x % 2 ==0:\n",
    "    print(f\"{x} is even.\")\n",
    "else:\n",
    "    print(f\"{x} is odd.\")"
   ]
  },
  {
   "cell_type": "code",
   "execution_count": null,
   "metadata": {},
   "outputs": [],
   "source": [
    "#if elese ladder syntax\n",
    "\"\"\"\n",
    "if condition:\n",
    "    statements\n",
    "elif:\n",
    "    statements\n",
    "elif:\n",
    "    statements\n",
    "else:\n",
    "    statements\n",
    "\"\"\""
   ]
  },
  {
   "cell_type": "code",
   "execution_count": null,
   "metadata": {},
   "outputs": [],
   "source": [
    "x=int(input(\"Enter a number:\"))\n",
    "if x == 0:\n",
    "    print(f\"{x} is zero.\")\n",
    "elif x % 2== 0:\n",
    "    print(f\"{x} is even\")\n",
    "else:\n",
    "    print(f\"{x} is odd.\")"
   ]
  },
  {
   "cell_type": "code",
   "execution_count": null,
   "metadata": {},
   "outputs": [],
   "source": [
    "#while loop syntax\n",
    "\"\"\"\n",
    "while conditon:\n",
    "    statements\n",
    "\"\"\""
   ]
  },
  {
   "cell_type": "code",
   "execution_count": null,
   "metadata": {},
   "outputs": [],
   "source": [
    "x =1\n",
    "while x<=10:\n",
    "    print(x,\",\",end=\" \")\n",
    "    x=x+1"
   ]
  },
  {
   "cell_type": "code",
   "execution_count": null,
   "metadata": {},
   "outputs": [],
   "source": [
    "#print odd number b/w given number\n",
    "x=int(input(\"Enter min number:\"))\n",
    "y=int(input(\"Enter max number:\"))\n",
    "while x<=y:\n",
    "    if x%2!=0:\n",
    "        print(x,end=\" \")\n",
    "    \n",
    "    x=x+1"
   ]
  },
  {
   "cell_type": "code",
   "execution_count": null,
   "metadata": {},
   "outputs": [],
   "source": [
    "# sequence are:string , list tuple, set, range etc.\n",
    "#for loop syntax\n",
    "\"\"\"\n",
    "for var in sequence:\n",
    "    statements\n",
    "    \n",
    "\"\"\""
   ]
  },
  {
   "cell_type": "code",
   "execution_count": null,
   "metadata": {},
   "outputs": [],
   "source": [
    "#print number 20 to 50\n",
    "for i in range(20,31):\n",
    "    print(i, end=\" \")"
   ]
  },
  {
   "cell_type": "code",
   "execution_count": null,
   "metadata": {},
   "outputs": [],
   "source": [
    "#product of numbers in list\n",
    "lst =[1,2,3,4,5]\n",
    "prod=1\n",
    "for i in lst:\n",
    "    prod*=i\n",
    "    print(prod,end=\" \")\n",
    "print(\"\\n\",prod,end=\" \")"
   ]
  },
  {
   "cell_type": "code",
   "execution_count": null,
   "metadata": {},
   "outputs": [],
   "source": [
    "#Multiplication table of given of number\n",
    "x=int(input(\"Enter a number for generating a table:\"))\n",
    "for i in range(1,11):\n",
    "    print(f\"{x }*{i}  :{ x * i}\")"
   ]
  },
  {
   "cell_type": "code",
   "execution_count": null,
   "metadata": {},
   "outputs": [],
   "source": [
    "lst =[1,2,3,4,5,6,7]\n",
    "\n",
    "for i in lst:\n",
    "   if i==5:\n",
    "       break\n",
    "   print(i)"
   ]
  },
  {
   "cell_type": "code",
   "execution_count": null,
   "metadata": {},
   "outputs": [],
   "source": [
    "lst =[1,2,3,4,5,6,7,8]\n",
    "\n",
    "for i in lst:\n",
    "   if i==5:\n",
    "       continue\n",
    "   print(i)"
   ]
  },
  {
   "cell_type": "code",
   "execution_count": 5,
   "metadata": {},
   "outputs": [
    {
     "name": "stdout",
     "output_type": "stream",
     "text": [
      "1 2 4 5 7 8 10 11 13 14 16 17 19 20 "
     ]
    }
   ],
   "source": [
    "for i in range(1,21):\n",
    "   if i%3==0:\n",
    "       continue\n",
    "   print(i, end=\" \")\n"
   ]
  },
  {
   "cell_type": "code",
   "execution_count": 13,
   "metadata": {},
   "outputs": [
    {
     "name": "stdout",
     "output_type": "stream",
     "text": [
      "2 4 5 7 8 10 11 13 14 "
     ]
    }
   ],
   "source": [
    "i=1\n",
    "while i<15:\n",
    "    i=i+1\n",
    "    if i % 3 == 0:\n",
    "        continue\n",
    "    print(i,end=\" \")\n",
    "\n",
    "    "
   ]
  },
  {
   "cell_type": "code",
   "execution_count": 17,
   "metadata": {},
   "outputs": [
    {
     "name": "stdout",
     "output_type": "stream",
     "text": [
      "U Entered 13\n"
     ]
    }
   ],
   "source": [
    "#assert\n",
    "n=int(input(\"Enter a number greater than 10:\"))\n",
    "assert n>10, \"Wrong number entered\"\n",
    "print('U Entered',n)"
   ]
  },
  {
   "cell_type": "code",
   "execution_count": 20,
   "metadata": {},
   "outputs": [
    {
     "name": "stdout",
     "output_type": "stream",
     "text": [
      "[10, 20, 30, 40, 20]\n",
      "[10, 20, 30, 40]\n"
     ]
    }
   ],
   "source": [
    "#Remove duplicates in list\n",
    "l1=eval(input('Enter a list of elements'))\n",
    "print(l1)\n",
    "l2=[]\n",
    "for each_value in l1:\n",
    "    if each_value not in l2:\n",
    "        l2.append(each_value)\n",
    "    \n",
    "print(l2)\n",
    "         \n"
   ]
  },
  {
   "cell_type": "code",
   "execution_count": 22,
   "metadata": {},
   "outputs": [
    {
     "name": "stdout",
     "output_type": "stream",
     "text": [
      "{40, 10, 20, 30}\n"
     ]
    }
   ],
   "source": [
    "#Remove duplicates in list method2\n",
    "l1=eval(input('Enter a list of elements'))\n",
    "s1=set(l1)\n",
    "print(s1)\n"
   ]
  },
  {
   "cell_type": "code",
   "execution_count": 2,
   "metadata": {},
   "outputs": [
    {
     "name": "stdout",
     "output_type": "stream",
     "text": [
      "e  is present  2 times\n"
     ]
    }
   ],
   "source": [
    "#count vowels in word\n",
    "word= input(\"Enter a word:\")\n",
    "vowels={'a','e','i','o','u'}\n",
    "results={}\n",
    "for c in word:\n",
    "    if c in vowels:\n",
    "        results[c]=results.get(c,0)+1\n",
    "for k, v in results.items():\n",
    "    print(k,\" is present \",v, \"times\")"
   ]
  },
  {
   "cell_type": "code",
   "execution_count": 3,
   "metadata": {},
   "outputs": [
    {
     "ename": "ValueError",
     "evalue": "invalid literal for int() with base 10: ''",
     "output_type": "error",
     "traceback": [
      "\u001b[1;31m---------------------------------------------------------------------------\u001b[0m",
      "\u001b[1;31mValueError\u001b[0m                                Traceback (most recent call last)",
      "\u001b[1;32me:\\Python\\controlstatement.ipynb Cell 20\u001b[0m line \u001b[0;36m2\n\u001b[0;32m      <a href='vscode-notebook-cell:/e%3A/Python/controlstatement.ipynb#X26sZmlsZQ%3D%3D?line=0'>1</a>\u001b[0m \u001b[39m#Handle employee details\u001b[39;00m\n\u001b[1;32m----> <a href='vscode-notebook-cell:/e%3A/Python/controlstatement.ipynb#X26sZmlsZQ%3D%3D?line=1'>2</a>\u001b[0m n \u001b[39m=\u001b[39m \u001b[39mint\u001b[39;49m(\u001b[39minput\u001b[39;49m(\u001b[39m\"\u001b[39;49m\u001b[39mEnter the number of employee\u001b[39;49m\u001b[39m\"\u001b[39;49m))\n\u001b[0;32m      <a href='vscode-notebook-cell:/e%3A/Python/controlstatement.ipynb#X26sZmlsZQ%3D%3D?line=2'>3</a>\u001b[0m employee \u001b[39m=\u001b[39m {}\n\u001b[0;32m      <a href='vscode-notebook-cell:/e%3A/Python/controlstatement.ipynb#X26sZmlsZQ%3D%3D?line=3'>4</a>\u001b[0m \u001b[39mfor\u001b[39;00m i \u001b[39min\u001b[39;00m \u001b[39mrange\u001b[39m(n):\n",
      "\u001b[1;31mValueError\u001b[0m: invalid literal for int() with base 10: ''"
     ]
    }
   ],
   "source": [
    "#Handle employee details\n",
    "n = int(input(\"Enter the number of employee\"))\n",
    "employee = {}\n",
    "for i in range(n):\n",
    "    name = input('Enter employee name')\n",
    "    salary = input('Enter employee salary')\n",
    "    employee[name]=salary\n",
    "while True:\n",
    "    name = input('Enter employee name')\n",
    "    salary = employee.get(name,-1)\n",
    "    if salary==-1:\n",
    "        print(\"Employee does not exist\")\n",
    "    else:\n",
    "        print('The salary of the employee is ',salary)\n",
    "    choice = input('Do you want to know the salary of an other emmployee[Yes/No]')\n",
    "    if choice =='No':\n",
    "        break"
   ]
  }
 ],
 "metadata": {
  "kernelspec": {
   "display_name": "Python 3",
   "language": "python",
   "name": "python3"
  },
  "language_info": {
   "codemirror_mode": {
    "name": "ipython",
    "version": 3
   },
   "file_extension": ".py",
   "mimetype": "text/x-python",
   "name": "python",
   "nbconvert_exporter": "python",
   "pygments_lexer": "ipython3",
   "version": "3.12.0"
  }
 },
 "nbformat": 4,
 "nbformat_minor": 2
}
