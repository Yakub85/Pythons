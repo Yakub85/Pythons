{
 "cells": [
  {
   "cell_type": "markdown",
   "metadata": {},
   "source": [
    "Shallow copy of list:\n",
    "A shallow copies of an existing list a new list containing reference to the object stored in the original list.\n",
    "There are at least three different ways to create shallow copies of an existing list. You can use:\n",
    "1. The slicing operator,[:]\n",
    "2. The .copy() method\n",
    "3. The copy() function from the copy module."
   ]
  },
  {
   "cell_type": "code",
   "execution_count": 1,
   "metadata": {},
   "outputs": [
    {
     "name": "stdout",
     "output_type": "stream",
     "text": [
      "['India', 'Turkey', 'America', 'Canada']\n"
     ]
    }
   ],
   "source": [
    "countries = [\"India\",\"Turkey\",\"America\",\"Canada\"]\n",
    "nations = countries[:]\n",
    "print(nations)"
   ]
  },
  {
   "cell_type": "markdown",
   "metadata": {},
   "source": [
    "# nations = countries[:] \n",
    "The above satatment creates nations as a shallow copy of countries by using the slicing operator with one colon only(a slice from the beginning to the end of countries).\n",
    "In this case, nations and countries have different identities. \n",
    "However, the elements in nations are aliases of the elements in countries:"
   ]
  },
  {
   "cell_type": "code",
   "execution_count": 6,
   "metadata": {},
   "outputs": [
    {
     "name": "stdout",
     "output_type": "stream",
     "text": [
      "False\n",
      "140723188966848\n",
      "140723188966848\n"
     ]
    }
   ],
   "source": [
    "print(id(nations)==id(countries))\n",
    "\n",
    " \n",
    "print(id(nations[0]==countries[0]))\n",
    "print(id(nations[0]==countries[0]))"
   ]
  },
  {
   "cell_type": "markdown",
   "metadata": {},
   "source": []
  }
 ],
 "metadata": {
  "kernelspec": {
   "display_name": "venv",
   "language": "python",
   "name": "python3"
  },
  "language_info": {
   "codemirror_mode": {
    "name": "ipython",
    "version": 3
   },
   "file_extension": ".py",
   "mimetype": "text/x-python",
   "name": "python",
   "nbconvert_exporter": "python",
   "pygments_lexer": "ipython3",
   "version": "3.12.0"
  }
 },
 "nbformat": 4,
 "nbformat_minor": 2
}
