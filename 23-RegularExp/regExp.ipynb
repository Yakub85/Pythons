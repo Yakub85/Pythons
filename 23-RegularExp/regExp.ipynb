{
 "cells": [
  {
   "cell_type": "code",
   "execution_count": 1,
   "metadata": {},
   "outputs": [
    {
     "name": "stdout",
     "output_type": "stream",
     "text": [
      "one\n"
     ]
    }
   ],
   "source": [
    "import re \n",
    "str = \"Take 1 up One 23 idea. One idea 45 at a time\"\n",
    "res=re.search(r'o\\w\\w',str)\n",
    "print(res.group())"
   ]
  },
  {
   "cell_type": "code",
   "execution_count": 9,
   "metadata": {},
   "outputs": [
    {
     "name": "stdout",
     "output_type": "stream",
     "text": [
      "None\n",
      "[]\n",
      "Tak\n"
     ]
    }
   ],
   "source": [
    "# str = \"Take up One idea. One idea at a time\"\n",
    "res=re.search(r'o\\w',str)\n",
    "print(res)\n",
    "res=re.findall(r'o\\w\\w',str)\n",
    "print(res)\n",
    "\n",
    "res = re.match(r'T\\w\\w',str)\n",
    "print(res.group())"
   ]
  },
  {
   "cell_type": "code",
   "execution_count": 12,
   "metadata": {},
   "outputs": [
    {
     "name": "stdout",
     "output_type": "stream",
     "text": [
      "Take 1 up Two 23 idea. Two idea 45 at a time\n"
     ]
    }
   ],
   "source": [
    "res = re.sub(r'One','Two',str)\n",
    "print(res)"
   ]
  },
  {
   "cell_type": "code",
   "execution_count": 17,
   "metadata": {},
   "outputs": [
    {
     "name": "stdout",
     "output_type": "stream",
     "text": [
      "['One', 'One']\n",
      "['Take up One idea. One idea at a time']\n"
     ]
    }
   ],
   "source": [
    "# str = \"Take 1 up One 23 idea. One idea 45 at a time\"\n",
    "res = re.findall(r'O\\w{1,2}',str)\n",
    "print(res)\n",
    "res=re.split(r'\\d+',str)\n",
    "print(res)"
   ]
  },
  {
   "cell_type": "code",
   "execution_count": 22,
   "metadata": {},
   "outputs": [
    {
     "name": "stdout",
     "output_type": "stream",
     "text": [
      "['One', 'One', 'Only']\n",
      "['One', 'One', 'Only']\n",
      "['On', 'On', 'On']\n"
     ]
    }
   ],
   "source": [
    "str = \"Take up One idea. One idea at a time Only\"\n",
    "res = re.findall(r'O\\w+',str)\n",
    "print(res)\n",
    "res = re.findall(r'O\\w*',str)\n",
    "print(res)\n",
    "res = re.findall(r'O\\w?',str)\n",
    "print(res)"
   ]
  },
  {
   "cell_type": "code",
   "execution_count": 23,
   "metadata": {},
   "outputs": [
    {
     "name": "stdout",
     "output_type": "stream",
     "text": [
      "['One', 'One', 'Onl']\n"
     ]
    }
   ],
   "source": [
    "res = re.findall(r'O\\w{2}',str)\n",
    "print(res)"
   ]
  },
  {
   "cell_type": "code",
   "execution_count": 24,
   "metadata": {},
   "outputs": [
    {
     "name": "stdout",
     "output_type": "stream",
     "text": [
      "['Only']\n"
     ]
    }
   ],
   "source": [
    "res = re.findall(r'O\\w{3}',str)\n",
    "print(res)"
   ]
  },
  {
   "cell_type": "code",
   "execution_count": 25,
   "metadata": {},
   "outputs": [
    {
     "name": "stdout",
     "output_type": "stream",
     "text": [
      "['15-1-2024', '12-11-2025']\n"
     ]
    }
   ],
   "source": [
    "str = \"Take 1 up 15-1-2024 One 23 idea. One idea 45 at a time 12-11-2025\"\n",
    "res = re.findall(r'\\d{1,2}-\\d{1,2}-\\d{4}',str)\n",
    "print(res)"
   ]
  },
  {
   "cell_type": "code",
   "execution_count": 27,
   "metadata": {},
   "outputs": [
    {
     "name": "stdout",
     "output_type": "stream",
     "text": [
      "Take\n"
     ]
    }
   ],
   "source": [
    "res = re.search(r'^T\\w*',str)\n",
    "print(res.group())"
   ]
  }
 ],
 "metadata": {
  "kernelspec": {
   "display_name": "venv",
   "language": "python",
   "name": "python3"
  },
  "language_info": {
   "codemirror_mode": {
    "name": "ipython",
    "version": 3
   },
   "file_extension": ".py",
   "mimetype": "text/x-python",
   "name": "python",
   "nbconvert_exporter": "python",
   "pygments_lexer": "ipython3",
   "version": "3.12.0"
  }
 },
 "nbformat": 4,
 "nbformat_minor": 2
}
