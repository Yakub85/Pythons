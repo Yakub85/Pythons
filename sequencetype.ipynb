{
 "cells": [
  {
   "cell_type": "code",
   "execution_count": 1,
   "metadata": {},
   "outputs": [
    {
     "name": "stdout",
     "output_type": "stream",
     "text": [
      "I am Yaqub Ansari\n"
     ]
    }
   ],
   "source": [
    "#Creating a String\n",
    "str = \"I am Yaqub Ansari\"\n",
    "print(str)"
   ]
  },
  {
   "cell_type": "code",
   "execution_count": 5,
   "metadata": {},
   "outputs": [
    {
     "name": "stdout",
     "output_type": "stream",
     "text": [
      "I'm Learing\n",
      "python\n",
      "programming\n"
     ]
    }
   ],
   "source": [
    "#Multiline string\n",
    "str = \"\"\"I'm Learing\n",
    "python\n",
    "programming\"\"\"\n",
    "print(str)"
   ]
  },
  {
   "cell_type": "code",
   "execution_count": 7,
   "metadata": {},
   "outputs": [
    {
     "name": "stdout",
     "output_type": "stream",
     "text": [
      "l\n",
      "HelloHelloHelloHelloHello\n",
      "5\n"
     ]
    }
   ],
   "source": [
    "str =\"Hello\"\n",
    "print(str[3])\n",
    "print(str*5)\n",
    "#length of string\n",
    "print(len(str))"
   ]
  },
  {
   "cell_type": "code",
   "execution_count": 13,
   "metadata": {},
   "outputs": [
    {
     "name": "stdout",
     "output_type": "stream",
     "text": [
      "How a\n",
      "How are you\n",
      "How are\n",
      "e\n",
      "re yo\n"
     ]
    }
   ],
   "source": [
    "#Slicing a string\n",
    "s = \"How are you\"\n",
    "print(s[0:5])\n",
    "print(s[0:])\n",
    "print(s[:7])\n",
    "print(s[-5])\n",
    "print(s[-6:-1])"
   ]
  },
  {
   "cell_type": "code",
   "execution_count": 15,
   "metadata": {},
   "outputs": [
    {
     "name": "stdout",
     "output_type": "stream",
     "text": [
      "Hwaey\n",
      "uoy era woH\n",
      "uoy era woH\n"
     ]
    }
   ],
   "source": [
    "s = \"How are you\"\n",
    "#s[start:end:step]\n",
    "print(s[0:10:2])\n",
    "#reverse a string\n",
    "print(s[10::-1])\n",
    "print(s[::-1])"
   ]
  },
  {
   "cell_type": "code",
   "execution_count": 33,
   "metadata": {},
   "outputs": [
    {
     "name": "stdout",
     "output_type": "stream",
     "text": [
      "   Hello, I'm Yaqub Ansari----\n",
      "Hello, I'm Yaqub Ansari----\n",
      "Hello, I'm Yaqub Ansari----\n",
      "   Hello, I'm Yaqub Ansari\n",
      "2\n",
      "-1\n",
      "14\n",
      "   HELLO, I'M YAQUB ANSARI----\n"
     ]
    }
   ],
   "source": [
    "#string fuction\n",
    "s = \"   Hello, I'm Yaqub Ansari----\"\n",
    "print(s)\n",
    "print(s.strip())\n",
    "print(s.lstrip())\n",
    "print(s.rstrip( \"-\"))\n",
    "print(s.count(\"a\"))\n",
    "print(s.find(\"Yak\"))\n",
    "print(s.find(\"Yaq\"))\n",
    "print(s.upper())\n"
   ]
  },
  {
   "cell_type": "code",
   "execution_count": 38,
   "metadata": {},
   "outputs": [
    {
     "name": "stdout",
     "output_type": "stream",
     "text": [
      "[10, 20, 'Yaqub', 3.5]\n",
      "Yaqub\n",
      "[20, 'Yaqub']\n",
      "[10, 20, 'Yaqub', 3.5, 10, 20, 'Yaqub', 3.5]\n",
      "4\n"
     ]
    }
   ],
   "source": [
    "#creating list\n",
    "myList = [10,20,'Yaqub',3.5]\n",
    "print(myList)\n",
    "print(myList[2])\n",
    "print(myList[1:3])\n",
    "print(myList*2)\n",
    "print(len(myList))"
   ]
  },
  {
   "cell_type": "code",
   "execution_count": 43,
   "metadata": {},
   "outputs": [
    {
     "name": "stdout",
     "output_type": "stream",
     "text": [
      "[]\n",
      "['Yaqub', 'Ansari']\n",
      "['Yaqub', 40]\n",
      "['Yaqub']\n"
     ]
    }
   ],
   "source": [
    "#List Method\n",
    "myList = []\n",
    "print(myList)\n",
    "#append method\n",
    "myList.append(\"Yaqub\")\n",
    "myList.append(\"Ansari\")\n",
    "print(myList)\n",
    "myList.append(40)\n",
    "#remove method\n",
    "myList.remove(\"Ansari\")\n",
    "print(myList)\n",
    "#delete method\n",
    "del(myList[1])\n",
    "print(myList)\n"
   ]
  },
  {
   "cell_type": "code",
   "execution_count": 46,
   "metadata": {},
   "outputs": [
    {
     "name": "stdout",
     "output_type": "stream",
     "text": [
      "67\n",
      "10\n",
      "[10, 20, 45, 25, 23, 67]\n",
      "[10, 20, 23, 25, 45, 67]\n",
      "[67, 45, 25, 23, 20, 10]\n"
     ]
    }
   ],
   "source": [
    "#more method of list\n",
    "num = [10,20,45,23,67]\n",
    "print(max(num))\n",
    "print(min(num))\n",
    "num.insert(3,25)\n",
    "print(num)\n",
    "num.sort()\n",
    "print(num)\n",
    "num.sort(reverse=True)\n",
    "print(num)"
   ]
  },
  {
   "cell_type": "code",
   "execution_count": 50,
   "metadata": {},
   "outputs": [
    {
     "name": "stdout",
     "output_type": "stream",
     "text": [
      "('apple', 'banana', 'cherry')\n",
      "(10, 30, 20, 50, 20, 30)\n",
      "2\n",
      "1\n"
     ]
    }
   ],
   "source": [
    "#Tuple in python- is immutable\n",
    "mytuple = (\"apple\", \"banana\", \"cherry\")\n",
    "print(mytuple)\n",
    "tpl =(10,30,20,50,20,30)\n",
    "print(tpl)\n",
    "print(tpl.count(20))\n",
    "print(mytuple.index(\"banana\"))"
   ]
  },
  {
   "cell_type": "code",
   "execution_count": 52,
   "metadata": {},
   "outputs": [
    {
     "name": "stdout",
     "output_type": "stream",
     "text": [
      "{'apple', 'cherry', 'banana'}\n",
      "<class 'set'>\n"
     ]
    }
   ],
   "source": [
    "#Set in Python\n",
    "myset = {\"apple\", \"banana\", \"cherry\"}\n",
    "print(myset)\n",
    "print(type(myset))"
   ]
  },
  {
   "cell_type": "code",
   "execution_count": 8,
   "metadata": {},
   "outputs": [
    {
     "name": "stdout",
     "output_type": "stream",
     "text": [
      "{'name': 'Yaqub Ansari', 'age': 25, 'Course': 'MCA'}\n",
      "dict_items([('name', 'Yaqub Ansari'), ('age', 25), ('Course', 'MCA')])\n",
      "Yaqub Ansari\n",
      "<class 'dict'>\n",
      "dict_keys(['name', 'age', 'Course'])\n",
      "dict_values(['Yaqub Ansari', 25, 'MCA'])\n",
      "{'name': 'Yaqub Ansari', 'age': 25, 'Course': 'MCA', 'mobNo': 123456789}\n"
     ]
    }
   ],
   "source": [
    "#Dictionary \n",
    "dict = {\"name\":\"Yaqub Ansari\",\"age\":25,\"Course\":\"MCA\"}\n",
    "print(dict)\n",
    "print(dict.items())\n",
    "#Print the \"name\" value of the dictionary\n",
    "print(dict[\"name\"])\n",
    "#print type of dict\n",
    "print(type(dict))\n",
    "#print key of dict\n",
    "k= dict.keys()\n",
    "print(k)\n",
    "#print values of dict\n",
    "val= dict.values()\n",
    "print(val)\n",
    "#adding item in dict\n",
    "dict[\"mobNo\"]=123456789\n",
    "print(dict)"
   ]
  },
  {
   "cell_type": "code",
   "execution_count": 12,
   "metadata": {},
   "outputs": [
    {
     "name": "stdout",
     "output_type": "stream",
     "text": [
      "Courses taken by  john  are:\n",
      "Python\n",
      "Django\n",
      "Courses taken by  bob  are:\n",
      "Java\n",
      "Spring\n",
      "Courses taken by  jim  are:\n",
      "js\n",
      "react\n",
      "node\n"
     ]
    }
   ],
   "source": [
    "#Student program\n",
    "student = {'john':['Python','Django'],'bob':['Java','Spring'],'jim':['js','react','node']} \n",
    "keys = student.keys()\n",
    "for eachKeys in keys:\n",
    "    print(\"Courses taken by \",eachKeys,\" are:\")\n",
    "    for eachCourse in student[eachKeys]:\n",
    "        print(eachCourse)"
   ]
  },
  {
   "cell_type": "code",
   "execution_count": 18,
   "metadata": {},
   "outputs": [
    {
     "name": "stdout",
     "output_type": "stream",
     "text": [
      "['India', 'Pakistan', 'Afganistan']\n",
      "['India', 'Pakistan', 'Afganistan', 'Bangaldesh']\n",
      "['India', 'Afganistan', 'Bangaldesh']\n",
      "['India', 'Pakistan', 'Afganistan', 'Bangaldesh']\n"
     ]
    }
   ],
   "source": [
    "#Assignment Number 3\n",
    "country =[\"India\",\"Pakistan\",\"Afganistan\"]\n",
    "print(country)\n",
    "country.append(\"Bangaldesh\")\n",
    "print(country)\n",
    "country.pop(1)\n",
    "print(country)\n",
    "country.insert(1,\"Pakistan\")\n",
    "print(country)"
   ]
  }
 ],
 "metadata": {
  "kernelspec": {
   "display_name": "Python 3",
   "language": "python",
   "name": "python3"
  },
  "language_info": {
   "codemirror_mode": {
    "name": "ipython",
    "version": 3
   },
   "file_extension": ".py",
   "mimetype": "text/x-python",
   "name": "python",
   "nbconvert_exporter": "python",
   "pygments_lexer": "ipython3",
   "version": "3.11.5"
  },
  "orig_nbformat": 4
 },
 "nbformat": 4,
 "nbformat_minor": 2
}
