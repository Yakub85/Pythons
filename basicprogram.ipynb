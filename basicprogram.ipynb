{
 "cells": [
  {
   "cell_type": "code",
   "execution_count": 2,
   "metadata": {},
   "outputs": [
    {
     "name": "stdout",
     "output_type": "stream",
     "text": [
      "ID: 101 name: Yakub Ansari Marks: 98.6\n"
     ]
    }
   ],
   "source": [
    "id=int(input(\"Enter Student id\"))\n",
    "name=input(\"Enter Stuent Name\")\n",
    "marks=float(input(\"Enter Student Marks\"))\n",
    "print(\"ID:\",id,\"name:\",name,\"Marks:\",marks)"
   ]
  },
  {
   "cell_type": "code",
   "execution_count": 1,
   "metadata": {},
   "outputs": [
    {
     "name": "stdout",
     "output_type": "stream",
     "text": [
      "Average of three number is 2.0\n"
     ]
    }
   ],
   "source": [
    "#average of three number\n",
    "a,b,c=[int(x) for x in input(\"Enter three numbers\").split()]\n",
    "avg = (a+b+c)/3\n",
    "print(f\"Average of three number is {avg}\")"
   ]
  },
  {
   "cell_type": "code",
   "execution_count": 2,
   "metadata": {},
   "outputs": [
    {
     "name": "stdout",
     "output_type": "stream",
     "text": [
      "Area of Circle is 153.86\n"
     ]
    }
   ],
   "source": [
    "#Area of circle\n",
    "radius=float(input(\"Enter radius of circle\"))\n",
    "PI = 3.14\n",
    "area = PI * radius**2\n",
    "print(f\"Area of Circle is {area}\")"
   ]
  },
  {
   "cell_type": "code",
   "execution_count": 3,
   "metadata": {},
   "outputs": [
    {
     "name": "stdout",
     "output_type": "stream",
     "text": [
      "Area of Circle is 153.93804002589985\n"
     ]
    }
   ],
   "source": [
    "import math\n",
    "#Area of circle\n",
    "radius=float(input(\"Enter radius of circle\"))\n",
    "area = math.pi * radius**2\n",
    "print(f\"Area of Circle is {area}\")"
   ]
  },
  {
   "cell_type": "code",
   "execution_count": 3,
   "metadata": {},
   "outputs": [
    {
     "ename": "ModuleNotFoundError",
     "evalue": "No module named 'numpy'",
     "output_type": "error",
     "traceback": [
      "\u001b[1;31m---------------------------------------------------------------------------\u001b[0m",
      "\u001b[1;31mModuleNotFoundError\u001b[0m                       Traceback (most recent call last)",
      "Cell \u001b[1;32mIn[3], line 1\u001b[0m\n\u001b[1;32m----> 1\u001b[0m \u001b[38;5;28;01mimport\u001b[39;00m \u001b[38;5;21;01mnumpy\u001b[39;00m \u001b[38;5;28;01mas\u001b[39;00m \u001b[38;5;21;01mnp\u001b[39;00m\n",
      "\u001b[1;31mModuleNotFoundError\u001b[0m: No module named 'numpy'"
     ]
    }
   ],
   "source": [
    "import numpy as np"
   ]
  },
  {
   "cell_type": "code",
   "execution_count": null,
   "metadata": {},
   "outputs": [],
   "source": [
    "arr = np.array([1,2,3,4])"
   ]
  }
 ],
 "metadata": {
  "kernelspec": {
   "display_name": "Python 3",
   "language": "python",
   "name": "python3"
  },
  "language_info": {
   "codemirror_mode": {
    "name": "ipython",
    "version": 3
   },
   "file_extension": ".py",
   "mimetype": "text/x-python",
   "name": "python",
   "nbconvert_exporter": "python",
   "pygments_lexer": "ipython3",
   "version": "3.12.0"
  }
 },
 "nbformat": 4,
 "nbformat_minor": 2
}
