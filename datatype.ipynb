{
 "cells": [
  {
   "cell_type": "code",
   "execution_count": 15,
   "metadata": {},
   "outputs": [
    {
     "name": "stdout",
     "output_type": "stream",
     "text": [
      "13\n",
      "10\n",
      "<class 'int'>\n"
     ]
    }
   ],
   "source": [
    "# DataType in Python\n",
    "#Numeric types\n",
    "a = 13\n",
    "print(a)\n",
    "num = 10\n",
    "print(num)\n",
    "print(type(num))"
   ]
  },
  {
   "cell_type": "code",
   "execution_count": 16,
   "metadata": {},
   "outputs": [
    {
     "name": "stdout",
     "output_type": "stream",
     "text": [
      "3.5\n",
      "<class 'float'>\n",
      "3.14\n",
      "<class 'float'>\n"
     ]
    }
   ],
   "source": [
    "#Floating type\n",
    "num = 3.5\n",
    "print(num)\n",
    "print(type(num))\n",
    "PI = 3.14\n",
    "print(PI)\n",
    "print(type(PI))"
   ]
  },
  {
   "cell_type": "code",
   "execution_count": 17,
   "metadata": {},
   "outputs": [
    {
     "name": "stdout",
     "output_type": "stream",
     "text": [
      "(3+7j)\n",
      "<class 'complex'>\n"
     ]
    }
   ],
   "source": [
    "#Complex type\n",
    "com_plex = 3 +7j\n",
    "print(com_plex)\n",
    "print(type(com_plex))"
   ]
  },
  {
   "cell_type": "code",
   "execution_count": 18,
   "metadata": {},
   "outputs": [
    {
     "name": "stdout",
     "output_type": "stream",
     "text": [
      "10\n",
      "<class 'int'>\n"
     ]
    }
   ],
   "source": [
    "#Binary type\n",
    "b = 0B1010\n",
    "print(b)\n",
    "print(type(b))"
   ]
  },
  {
   "cell_type": "code",
   "execution_count": 19,
   "metadata": {},
   "outputs": [
    {
     "name": "stdout",
     "output_type": "stream",
     "text": [
      "255\n",
      "<class 'int'>\n",
      "31\n"
     ]
    }
   ],
   "source": [
    "#Hexadecimal type\n",
    "h = 0xff\n",
    "print(h)\n",
    "print(type(h))\n",
    "oct = 0o37\n",
    "print(oct)"
   ]
  },
  {
   "cell_type": "code",
   "execution_count": 20,
   "metadata": {},
   "outputs": [
    {
     "name": "stdout",
     "output_type": "stream",
     "text": [
      "True\n",
      "<class 'bool'>\n"
     ]
    }
   ],
   "source": [
    "#Boolean Type\n",
    "isLogin = True\n",
    "print(isLogin)\n",
    "print(type(isLogin))"
   ]
  },
  {
   "cell_type": "code",
   "execution_count": 21,
   "metadata": {},
   "outputs": [
    {
     "name": "stdout",
     "output_type": "stream",
     "text": [
      "3.4\n",
      "<class 'float'>\n",
      "3\n",
      "<class 'float'>\n"
     ]
    }
   ],
   "source": [
    "#Type Conversion Function\n",
    "#int()--> converts  float or string in integer\\\n",
    "#float()\n",
    "#str()\n",
    "#hex()\n",
    "#oct()\n",
    "fnum = 3.4\n",
    "print(fnum)\n",
    "print(type(fnum))\n",
    "print(int(fnum))\n",
    "print(type(fnum))"
   ]
  },
  {
   "cell_type": "code",
   "execution_count": 22,
   "metadata": {},
   "outputs": [
    {
     "name": "stdout",
     "output_type": "stream",
     "text": [
      "101\n"
     ]
    }
   ],
   "source": [
    "#identifier is used to give the name of variable, function, class .\n",
    "userId = 101\n",
    "print(userId)"
   ]
  },
  {
   "cell_type": "code",
   "execution_count": 1,
   "metadata": {},
   "outputs": [
    {
     "name": "stdout",
     "output_type": "stream",
     "text": [
      "Yaqub\n",
      "Ansari\n",
      "25\n",
      "4446123\n",
      "168\n",
      "65.0\n"
     ]
    }
   ],
   "source": [
    "#Assignment Number1\n",
    "firstName = \"Yaqub\"\n",
    "lastName =\"Ansari\"\n",
    "age = 25\n",
    "ssn = 4446123\n",
    "height = 168\n",
    "weight = 65.0\n",
    "print(firstName)\n",
    "print(lastName)\n",
    "print(age)\n",
    "print(ssn)\n",
    "print(height)\n",
    "print(weight)"
   ]
  },
  {
   "cell_type": "code",
   "execution_count": 2,
   "metadata": {},
   "outputs": [
    {
     "name": "stdout",
     "output_type": "stream",
     "text": [
      "20\n",
      "12.5\n",
      "True\n",
      "Hey ! I'm learning python programming\n"
     ]
    }
   ],
   "source": [
    "#Assignment Number2\n",
    "intVar = 20\n",
    "floatVar = 12.5\n",
    "isLogin = True\n",
    "str = \"Hey ! I'm learning python programming\"\n",
    "print(intVar)\n",
    "print(floatVar)\n",
    "print(isLogin)\n",
    "print(str)"
   ]
  }
 ],
 "metadata": {
  "kernelspec": {
   "display_name": "Python 3",
   "language": "python",
   "name": "python3"
  },
  "language_info": {
   "codemirror_mode": {
    "name": "ipython",
    "version": 3
   },
   "file_extension": ".py",
   "mimetype": "text/x-python",
   "name": "python",
   "nbconvert_exporter": "python",
   "pygments_lexer": "ipython3",
   "version": "3.11.5"
  },
  "orig_nbformat": 4
 },
 "nbformat": 4,
 "nbformat_minor": 2
}
