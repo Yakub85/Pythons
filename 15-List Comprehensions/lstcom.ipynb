{
 "cells": [
  {
   "cell_type": "markdown",
   "metadata": {},
   "source": [
    "List Comprehension\n",
    "    l= [expression for item in iterable if condition]"
   ]
  },
  {
   "cell_type": "code",
   "execution_count": 1,
   "metadata": {},
   "outputs": [
    {
     "name": "stdout",
     "output_type": "stream",
     "text": [
      "[1, 8, 27, 64, 125]\n"
     ]
    }
   ],
   "source": [
    "lst=[]\n",
    "for x in range(1,6):\n",
    "    lst.append(x**3)\n",
    "print(lst)\n",
    "    \n",
    "\n"
   ]
  },
  {
   "cell_type": "code",
   "execution_count": 2,
   "metadata": {},
   "outputs": [
    {
     "name": "stdout",
     "output_type": "stream",
     "text": [
      "[1, 8, 27, 64, 125]\n"
     ]
    }
   ],
   "source": [
    "#cube of given number\n",
    "lst =[]\n",
    "lst =[ x**3 for x in range(1,6)]\n",
    "print(lst)"
   ]
  },
  {
   "cell_type": "code",
   "execution_count": 4,
   "metadata": {},
   "outputs": [
    {
     "name": "stdout",
     "output_type": "stream",
     "text": [
      "[2, 4, 6, 8, 10, 12, 14, 16, 18]\n"
     ]
    }
   ],
   "source": [
    "#even number\n",
    "evenlst=[]\n",
    "evenlst = [x for x in range(2,20) if x%2==0]\n",
    "print(evenlst)"
   ]
  },
  {
   "cell_type": "code",
   "execution_count": 7,
   "metadata": {},
   "outputs": [
    {
     "name": "stdout",
     "output_type": "stream",
     "text": [
      "[6, 14, 24, 36, 50]\n"
     ]
    }
   ],
   "source": [
    "#product of element \n",
    "lst1 =[1,2,3,4,5]\n",
    "lst2 =[6,7,8,9,10]\n",
    "productLst = []\n",
    "# for i in range(len(lst1)):\n",
    "#     productLst.append(lst1[i]*lst2[i])\n",
    "\n",
    "productLst = [lst1[i]*lst2[i] for i in range(len(lst1))]\n",
    "    \n",
    "print(productLst)"
   ]
  },
  {
   "cell_type": "code",
   "execution_count": 10,
   "metadata": {},
   "outputs": [
    {
     "name": "stdout",
     "output_type": "stream",
     "text": [
      "[2, 4, 6]\n"
     ]
    }
   ],
   "source": [
    "#common element in two list\n",
    "lst1 =[1,2,3,4,5,6]\n",
    "lst2 =[2,4,6,7,8]\n",
    "res =[]\n",
    "\n",
    "# for i in lst1:\n",
    "#     if i in lst2:\n",
    "#         res.append(i)\n",
    "#using list comprehension\n",
    "\n",
    "res = [i for i in lst1 if i in lst2]\n",
    "print(res)      "
   ]
  }
 ],
 "metadata": {
  "kernelspec": {
   "display_name": "venv",
   "language": "python",
   "name": "python3"
  },
  "language_info": {
   "codemirror_mode": {
    "name": "ipython",
    "version": 3
   },
   "file_extension": ".py",
   "mimetype": "text/x-python",
   "name": "python",
   "nbconvert_exporter": "python",
   "pygments_lexer": "ipython3",
   "version": "3.12.0"
  }
 },
 "nbformat": 4,
 "nbformat_minor": 2
}
