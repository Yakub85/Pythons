{
 "cells": [
  {
   "cell_type": "code",
   "execution_count": 3,
   "metadata": {},
   "outputs": [
    {
     "name": "stdout",
     "output_type": "stream",
     "text": [
      "None\n",
      "None\n"
     ]
    }
   ],
   "source": [
    "#None type\n",
    "a = None\n",
    "print(a)\n",
    "def m1():\n",
    "    a=20\n",
    "print(m1())"
   ]
  },
  {
   "cell_type": "code",
   "execution_count": 2,
   "metadata": {},
   "outputs": [
    {
     "name": "stdout",
     "output_type": "stream",
     "text": [
      "Thread-9 (displayNumber)Thread-8 (displayNumber)\n",
      "0\n",
      "1\n",
      "2\n",
      "3\n",
      "4\n",
      "5\n",
      "6\n",
      "7\n",
      "8\n",
      "9\n",
      "10\n",
      "\n",
      "0\n",
      "1\n",
      "2\n",
      "3\n",
      "4\n",
      "5\n",
      "6\n",
      "7\n",
      "8\n",
      "9\n",
      "10\n",
      "Thread-10 (displayNumber)\n",
      "0\n",
      "1\n",
      "2\n",
      "3\n",
      "4\n",
      "5\n",
      "6\n",
      "7\n",
      "8\n",
      "9\n",
      "10\n"
     ]
    },
    {
     "name": "stderr",
     "output_type": "stream",
     "text": [
      "C:\\Users\\Hp\\AppData\\Local\\Temp\\ipykernel_7528\\3249410223.py:7: DeprecationWarning: getName() is deprecated, get the name attribute instead\n",
      "  print(current_thread().getName())\n"
     ]
    }
   ],
   "source": [
    "from threading import*\n",
    "\n",
    "class MyThread:\n",
    "    \n",
    "    def displayNumber(self):\n",
    "        i=0\n",
    "        print(current_thread().getName())\n",
    "        while(i<=10):\n",
    "            print(i)\n",
    "            i+=1\n",
    "\n",
    "\n",
    "obj =MyThread()\n",
    "t1 = Thread(target=obj.displayNumber)\n",
    "t1.start()\n",
    "\n",
    "t2 = Thread(target=obj.displayNumber)\n",
    "t2.start()\n",
    "\n",
    "t3 = Thread(target=obj.displayNumber)\n",
    "t3.start()"
   ]
  }
 ],
 "metadata": {
  "kernelspec": {
   "display_name": "Python 3",
   "language": "python",
   "name": "python3"
  },
  "language_info": {
   "codemirror_mode": {
    "name": "ipython",
    "version": 3
   },
   "file_extension": ".py",
   "mimetype": "text/x-python",
   "name": "python",
   "nbconvert_exporter": "python",
   "pygments_lexer": "ipython3",
   "version": "3.12.0"
  },
  "orig_nbformat": 4
 },
 "nbformat": 4,
 "nbformat_minor": 2
}
