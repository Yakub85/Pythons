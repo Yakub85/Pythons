{
 "cells": [
  {
   "cell_type": "markdown",
   "metadata": {},
   "source": [
    "Function inside another function"
   ]
  },
  {
   "cell_type": "code",
   "execution_count": 2,
   "metadata": {},
   "outputs": [
    {
     "data": {
      "text/plain": [
       "'Hello Yaqub'"
      ]
     },
     "execution_count": 2,
     "metadata": {},
     "output_type": "execute_result"
    }
   ],
   "source": [
    "#Function inside another function\n",
    "def display(name):\n",
    "    def message(): # this function call only it parent function \n",
    "        return \"Hello \"\n",
    "    result = message() +name\n",
    "    return result\n",
    "\n",
    "display(\"Yaqub\")"
   ]
  },
  {
   "cell_type": "code",
   "execution_count": 3,
   "metadata": {},
   "outputs": [
    {
     "data": {
      "text/plain": [
       "'Hello Yaqub'"
      ]
     },
     "execution_count": 3,
     "metadata": {},
     "output_type": "execute_result"
    }
   ],
   "source": [
    "#funtion as parameter to another fun\n",
    "def display(fun):\n",
    "    return \"Hello \"+fun\n",
    "\n",
    "def name():\n",
    "    return \"Yaqub\"\n",
    "\n",
    "display(name())"
   ]
  },
  {
   "cell_type": "code",
   "execution_count": 4,
   "metadata": {},
   "outputs": [
    {
     "name": "stdout",
     "output_type": "stream",
     "text": [
      "Hello \n"
     ]
    }
   ],
   "source": [
    "# Returning function\n",
    "def display():\n",
    "    def message(): # this function call only it parent function \n",
    "        return \"Hello \"\n",
    "    return message\n",
    "\n",
    "fun = display()\n",
    "print(fun())"
   ]
  },
  {
   "cell_type": "code",
   "execution_count": 8,
   "metadata": {},
   "outputs": [
    {
     "name": "stdout",
     "output_type": "stream",
     "text": [
      "1 2 4 5 6 "
     ]
    }
   ],
   "source": [
    "#pass any type (listfun.py)\n",
    "\n",
    "def fun(lst):\n",
    "    for i in lst:\n",
    "        print(i,end=\" \")\n",
    " \n",
    "        \n",
    "lst=[1,2,4,5,6]\n",
    "\n",
    "fun(lst)"
   ]
  },
  {
   "cell_type": "markdown",
   "metadata": {},
   "source": [
    "Recursion :- Recursion is the  process of a function calling itself.\n",
    "   Example:\n",
    "            factorial(3)=3*2*1\n",
    "            factorial(3)=3*factorail(2)\n",
    "            factorial(2)=2*factorail(1)\n",
    "            factorial(1)=1*factorail(0) \n",
    "            factorial(0)=1\n",
    "            logic is :\n",
    "            factorial(n)=n*factorial(n-1)\n",
    "            base case: means terminating of function\n",
    "            if n==0:\n",
    "               return 1"
   ]
  },
  {
   "cell_type": "code",
   "execution_count": 11,
   "metadata": {},
   "outputs": [
    {
     "name": "stdout",
     "output_type": "stream",
     "text": [
      "6\n"
     ]
    }
   ],
   "source": [
    "def factorial(num):\n",
    "    if num == 0:\n",
    "        return 1\n",
    "    else:\n",
    "        result = num*factorial(num-1)\n",
    "    \n",
    "    return result\n",
    "\n",
    "        \n",
    "print(factorial(3))"
   ]
  },
  {
   "cell_type": "markdown",
   "metadata": {},
   "source": [
    "Keyword arguments in function"
   ]
  },
  {
   "cell_type": "code",
   "execution_count": 13,
   "metadata": {},
   "outputs": [
    {
     "name": "stdout",
     "output_type": "stream",
     "text": [
      "10   20\n",
      "30\n"
     ]
    }
   ],
   "source": [
    "def sum(a,b):\n",
    "    print(a,\" \",b)\n",
    "    print(a+b)\n",
    "    \n",
    "sum(10,20)"
   ]
  },
  {
   "cell_type": "code",
   "execution_count": 17,
   "metadata": {},
   "outputs": [
    {
     "name": "stdout",
     "output_type": "stream",
     "text": [
      "20   10\n",
      "30\n"
     ]
    }
   ],
   "source": [
    "def sum(a,b):\n",
    "    print(a,\" \",b)\n",
    "    print(a+b)\n",
    "    \n",
    "sum(b=10,a=20)# here a and b are keyword arguments"
   ]
  },
  {
   "cell_type": "markdown",
   "metadata": {},
   "source": [
    "Default Arguments in python"
   ]
  },
  {
   "cell_type": "code",
   "execution_count": null,
   "metadata": {},
   "outputs": [],
   "source": [
    "def sum(a,b):\n",
    "    print(a+b)\n",
    "\n",
    "sum(2,4)\n",
    "sum(4)"
   ]
  },
  {
   "cell_type": "code",
   "execution_count": null,
   "metadata": {},
   "outputs": [],
   "source": [
    "def sum(a,b=8):\n",
    "    print(a+b)\n",
    "\n",
    "sum(2,4)\n",
    "sum(4)\n",
    "sum()"
   ]
  },
  {
   "cell_type": "code",
   "execution_count": 22,
   "metadata": {},
   "outputs": [
    {
     "name": "stdout",
     "output_type": "stream",
     "text": [
      "5\n",
      "6\n",
      "10\n",
      "5\n"
     ]
    }
   ],
   "source": [
    "def sum(a=2,b=3,c=6):\n",
    "    print(a+b)\n",
    "\n",
    "sum()\n",
    "sum(3)\n",
    "sum(3,7)\n",
    "sum(2,3,5)"
   ]
  },
  {
   "cell_type": "code",
   "execution_count": 27,
   "metadata": {},
   "outputs": [
    {
     "name": "stdout",
     "output_type": "stream",
     "text": [
      "BMI  10.113371509514648\n"
     ]
    }
   ],
   "source": [
    "# BMI Usecase\n",
    "def calculateBMI(height,weight):\n",
    "    heightInMeter = height *0.4536\n",
    "    bmi = weight  / (heightInMeter * heightInMeter)\n",
    "    return bmi\n",
    "\n",
    "res = calculateBMI(5.8,70)\n",
    "print(\"BMI \",res)"
   ]
  },
  {
   "cell_type": "markdown",
   "metadata": {},
   "source": [
    "*args and **kwargs"
   ]
  },
  {
   "cell_type": "code",
   "execution_count": 35,
   "metadata": {},
   "outputs": [
    {
     "name": "stdout",
     "output_type": "stream",
     "text": [
      "10\n",
      "(20, 30, 40)\n",
      "{'name': 'Yaqub', 'age': 23}\n"
     ]
    }
   ],
   "source": [
    "def myFun(x,*args,**kwargs):\n",
    "    print(x)\n",
    "    print(args)\n",
    "    print(kwargs)\n",
    "    \n",
    "myFun(10,20,30,40,name=\"Yaqub\",age=23)"
   ]
  },
  {
   "cell_type": "code",
   "execution_count": null,
   "metadata": {},
   "outputs": [],
   "source": [
    "def myFun(x,*args,**kwargs):\n",
    "    print(x)\n",
    "    for each_arg in args:\n",
    "        print(each_arg)\n",
    "        \n",
    "    for each_kwargs in kwargs.items():\n",
    "        print(each_kwargs)\n",
    "  \n",
    "    \n",
    "myFun(10,20,30,40,name=\"Yaqub\",age=23)"
   ]
  },
  {
   "cell_type": "code",
   "execution_count": 38,
   "metadata": {},
   "outputs": [
    {
     "name": "stdout",
     "output_type": "stream",
     "text": [
      "10\n",
      "20\n",
      "30\n",
      "40\n"
     ]
    }
   ],
   "source": [
    "def myFun(*args):\n",
    "    for each_arg in args:\n",
    "        print(each_arg)\n",
    "        \n",
    "myFun(10,20,30,40)   "
   ]
  },
  {
   "cell_type": "code",
   "execution_count": 41,
   "metadata": {},
   "outputs": [
    {
     "name": "stdout",
     "output_type": "stream",
     "text": [
      "name : Yaqub Ansari\n",
      "age : 24\n",
      "course : MCA\n"
     ]
    }
   ],
   "source": [
    "def myFun(**kwargs):\n",
    "    for key, value in kwargs.items():\n",
    "        print(key,\":\",value)\n",
    "        \n",
    "myFun(name=\"Yaqub Ansari\",age=24,course=\"MCA\")   "
   ]
  }
 ],
 "metadata": {
  "kernelspec": {
   "display_name": "venv",
   "language": "python",
   "name": "python3"
  },
  "language_info": {
   "codemirror_mode": {
    "name": "ipython",
    "version": 3
   },
   "file_extension": ".py",
   "mimetype": "text/x-python",
   "name": "python",
   "nbconvert_exporter": "python",
   "pygments_lexer": "ipython3",
   "version": "3.12.0"
  }
 },
 "nbformat": 4,
 "nbformat_minor": 2
}
