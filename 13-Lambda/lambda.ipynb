{
 "cells": [
  {
   "cell_type": "markdown",
   "metadata": {},
   "source": [
    "Lambda Function mean anonymous function"
   ]
  },
  {
   "cell_type": "code",
   "execution_count": 4,
   "metadata": {},
   "outputs": [
    {
     "name": "stdout",
     "output_type": "stream",
     "text": [
      "8\n",
      "27\n"
     ]
    }
   ],
   "source": [
    "#Create a lambda that calculate cube of a given number\n",
    "\n",
    "def cube(n):\n",
    "    return n**3\n",
    "\n",
    "print(cube(2))\n",
    "\n",
    "#lambda function\n",
    "\n",
    "cube =  lambda n:n**3\n",
    "print(cube(3))\n",
    "    "
   ]
  },
  {
   "cell_type": "code",
   "execution_count": 5,
   "metadata": {},
   "outputs": [
    {
     "name": "stdout",
     "output_type": "stream",
     "text": [
      "Yes\n",
      "No\n"
     ]
    }
   ],
   "source": [
    "#Return Yes if Even otherwise return No if number is odd\n",
    "res = lambda n:'Yes' if n%2==0 else 'No'\n",
    "print(res(4))\n",
    "print(res(5))"
   ]
  },
  {
   "cell_type": "code",
   "execution_count": 6,
   "metadata": {},
   "outputs": [
    {
     "name": "stdout",
     "output_type": "stream",
     "text": [
      "9\n"
     ]
    }
   ],
   "source": [
    "#sum of two number\n",
    "sum = lambda x,y:(x+y)\n",
    "\n",
    "print(sum(5,4))"
   ]
  },
  {
   "cell_type": "code",
   "execution_count": 9,
   "metadata": {},
   "outputs": [
    {
     "name": "stdout",
     "output_type": "stream",
     "text": [
      "[10, 2, 8]\n",
      "10\n",
      "2\n",
      "8\n"
     ]
    }
   ],
   "source": [
    "#Retrive only even number from a given list using filter\n",
    "lst =[10,2,3,7,21,8]\n",
    "res = list(filter(lambda x:x%2==0,lst))\n",
    "print(res)\n",
    "\n",
    "for i in  res:\n",
    "    print(i)"
   ]
  },
  {
   "cell_type": "code",
   "execution_count": 13,
   "metadata": {},
   "outputs": [
    {
     "name": "stdout",
     "output_type": "stream",
     "text": [
      "[2, 4, 6, 8, 10]\n",
      "2 4 6 8 10 "
     ]
    }
   ],
   "source": [
    "#Using map functon double the value of each element in the list\n",
    "\n",
    "lst = [1,2,3,4,5]\n",
    "res = list(map(lambda x:x*2,lst))\n",
    "print(res)\n",
    "for i in res:\n",
    "    print(i,end=\" \")"
   ]
  },
  {
   "cell_type": "code",
   "execution_count": 15,
   "metadata": {},
   "outputs": [
    {
     "name": "stdout",
     "output_type": "stream",
     "text": [
      "75\n"
     ]
    }
   ],
   "source": [
    "#using the reduce function to find out the sum of all element in a list\n",
    "from functools import reduce\n",
    "lst = [5,10,15,20,25]\n",
    "res = reduce(lambda x,y:x+y,lst)\n",
    "print(res)\n"
   ]
  }
 ],
 "metadata": {
  "kernelspec": {
   "display_name": "venv",
   "language": "python",
   "name": "python3"
  },
  "language_info": {
   "codemirror_mode": {
    "name": "ipython",
    "version": 3
   },
   "file_extension": ".py",
   "mimetype": "text/x-python",
   "name": "python",
   "nbconvert_exporter": "python",
   "pygments_lexer": "ipython3",
   "version": "3.12.0"
  }
 },
 "nbformat": 4,
 "nbformat_minor": 2
}
