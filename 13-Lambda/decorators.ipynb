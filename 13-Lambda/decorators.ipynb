{
 "cells": [
  {
   "cell_type": "markdown",
   "metadata": {},
   "source": [
    "Decorators\n",
    "   def myDecorFun(fun)"
   ]
  },
  {
   "cell_type": "code",
   "execution_count": 2,
   "metadata": {},
   "outputs": [
    {
     "name": "stdout",
     "output_type": "stream",
     "text": [
      "10\n"
     ]
    }
   ],
   "source": [
    "#Decorators that return the double the result of  a function\n",
    "\n",
    "def decor(fun):\n",
    "    def inner():\n",
    "        result = fun()\n",
    "        return result*2\n",
    "    return inner\n",
    "\n",
    "def num():\n",
    "    return 5\n",
    "\n",
    "resFun = decor(num)\n",
    "print(resFun())"
   ]
  },
  {
   "cell_type": "code",
   "execution_count": 4,
   "metadata": {},
   "outputs": [
    {
     "name": "stdout",
     "output_type": "stream",
     "text": [
      "10\n"
     ]
    }
   ],
   "source": [
    "#another way using @\n",
    "def decorFun(fun):\n",
    "    def inner():\n",
    "        result = fun()\n",
    "        return result*2\n",
    "    return inner\n",
    "\n",
    "@decorFun\n",
    "def num():\n",
    "    return 5\n",
    "\n",
    "print(num())"
   ]
  },
  {
   "cell_type": "code",
   "execution_count": 16,
   "metadata": {},
   "outputs": [
    {
     "name": "stdout",
     "output_type": "stream",
     "text": [
      "11\n"
     ]
    }
   ],
   "source": [
    "#another way using @\n",
    "def decorSum(sum):\n",
    "    def innerSum():\n",
    "        a,b = sum()\n",
    "        return a + b\n",
    "    return innerSum\n",
    "\n",
    "@decorSum\n",
    "def num():\n",
    "    return 5,6\n",
    "\n",
    "print(num())"
   ]
  },
  {
   "cell_type": "code",
   "execution_count": 17,
   "metadata": {},
   "outputs": [
    {
     "name": "stdout",
     "output_type": "stream",
     "text": [
      "15\n"
     ]
    }
   ],
   "source": [
    "def decorSum(sum):\n",
    "    def innerSum(a,b):\n",
    "        a,b = sum(a,b)\n",
    "        return a + b\n",
    "    return innerSum\n",
    "\n",
    "@decorSum\n",
    "def num(x,y):\n",
    "    return x,y\n",
    "\n",
    "print(num(9,6))"
   ]
  },
  {
   "cell_type": "code",
   "execution_count": 12,
   "metadata": {},
   "outputs": [
    {
     "name": "stdout",
     "output_type": "stream",
     "text": [
      "Hey Yaqub How are you\n"
     ]
    }
   ],
   "source": [
    "#Decorating Strings\n",
    "\n",
    "def decorFun(fun):\n",
    "    def inner(n):\n",
    "        res = fun(n)\n",
    "        res+=\" How are you\"\n",
    "        return res\n",
    "    return inner\n",
    "\n",
    "@decorFun\n",
    "def hello(name):\n",
    "    return \"Hey \"+name\n",
    "\n",
    "print(hello(\"Yaqub\"))"
   ]
  },
  {
   "cell_type": "code",
   "execution_count": 26,
   "metadata": {},
   "outputs": [
    {
     "name": "stdout",
     "output_type": "stream",
     "text": [
      "5.0\n",
      "100\n",
      "25.0\n"
     ]
    }
   ],
   "source": [
    "#decorstor Chaning\n",
    "\n",
    "def squre(fun):\n",
    "    def inner():\n",
    "        n = fun()\n",
    "        return n*n\n",
    "    return inner\n",
    "\n",
    "def half(fun):\n",
    "    def inner():\n",
    "        n = fun()\n",
    "        return n/2\n",
    "    return inner\n",
    " \n",
    "@half \n",
    "def num():\n",
    "    return 10\n",
    "\n",
    "print(num())\n",
    "@squre             \n",
    "def num():\n",
    "    return 10\n",
    "\n",
    "print(num())\n",
    "\n",
    "\n",
    "@squre \n",
    "@half             \n",
    "def num():\n",
    "    return 10\n",
    "\n",
    "print(num())\n"
   ]
  },
  {
   "cell_type": "markdown",
   "metadata": {},
   "source": [
    "Generator\n"
   ]
  },
  {
   "cell_type": "code",
   "execution_count": 27,
   "metadata": {},
   "outputs": [
    {
     "name": "stdout",
     "output_type": "stream",
     "text": [
      "10\n",
      "11\n",
      "12\n",
      "13\n",
      "14\n",
      "15\n",
      "16\n",
      "17\n",
      "18\n",
      "19\n",
      "20\n"
     ]
    }
   ],
   "source": [
    "def customer(x,y):\n",
    "    while x<=y:\n",
    "        yield x\n",
    "        x+=1\n",
    "        \n",
    "res = customer(10,20)\n",
    "\n",
    "for i in res:\n",
    "    print(i)"
   ]
  },
  {
   "cell_type": "code",
   "execution_count": 28,
   "metadata": {},
   "outputs": [
    {
     "name": "stdout",
     "output_type": "stream",
     "text": [
      "['False', 'None', 'True', 'and', 'as', 'assert', 'async', 'await', 'break', 'class', 'continue', 'def', 'del', 'elif', 'else', 'except', 'finally', 'for', 'from', 'global', 'if', 'import', 'in', 'is', 'lambda', 'nonlocal', 'not', 'or', 'pass', 'raise', 'return', 'try', 'while', 'with', 'yield']\n"
     ]
    }
   ],
   "source": [
    "import keyword\n",
    "\n",
    "print(keyword.kwlist)"
   ]
  }
 ],
 "metadata": {
  "kernelspec": {
   "display_name": "venv",
   "language": "python",
   "name": "python3"
  },
  "language_info": {
   "codemirror_mode": {
    "name": "ipython",
    "version": 3
   },
   "file_extension": ".py",
   "mimetype": "text/x-python",
   "name": "python",
   "nbconvert_exporter": "python",
   "pygments_lexer": "ipython3",
   "version": "3.12.0"
  }
 },
 "nbformat": 4,
 "nbformat_minor": 2
}
